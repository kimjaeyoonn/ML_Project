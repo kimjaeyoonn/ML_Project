{
 "cells": [
  {
   "cell_type": "markdown",
   "id": "0808a9da",
   "metadata": {},
   "source": [
    "# Library import"
   ]
  },
  {
   "cell_type": "code",
   "execution_count": 27,
   "id": "61a8fe2e",
   "metadata": {},
   "outputs": [],
   "source": [
    "# 필요한 라이브러리 설치\n",
    "import warnings\n",
    "warnings.filterwarnings('ignore')\n",
    "\n",
    "import os\n",
    "import matplotlib.pyplot as plt\n",
    "import seaborn as sns\n",
    "import pandas as pd\n",
    "import numpy as np\n",
    "import sklearn"
   ]
  },
  {
   "cell_type": "markdown",
   "id": "58770a00",
   "metadata": {},
   "source": [
    "# read_csv (6 Label)"
   ]
  },
  {
   "cell_type": "code",
   "execution_count": 28,
   "id": "dfddf6e6",
   "metadata": {},
   "outputs": [],
   "source": [
    "# 파일 받아오기\n",
    "# 6class\n",
    "\n",
    "Sdf = pd.read_csv('Sdf_6label.csv')\n",
    "Kdf = pd.read_csv('Kdf_6label.csv')\n",
    "Mdf = pd.read_csv('Mdf_6label.csv')"
   ]
  },
  {
   "cell_type": "markdown",
   "id": "5d6c0385",
   "metadata": {},
   "source": [
    "# X, y 나누기"
   ]
  },
  {
   "cell_type": "code",
   "execution_count": 29,
   "id": "1c8d36b5",
   "metadata": {},
   "outputs": [
    {
     "data": {
      "text/html": [
       "<div>\n",
       "<style scoped>\n",
       "    .dataframe tbody tr th:only-of-type {\n",
       "        vertical-align: middle;\n",
       "    }\n",
       "\n",
       "    .dataframe tbody tr th {\n",
       "        vertical-align: top;\n",
       "    }\n",
       "\n",
       "    .dataframe thead th {\n",
       "        text-align: right;\n",
       "    }\n",
       "</style>\n",
       "<table border=\"1\" class=\"dataframe\">\n",
       "  <thead>\n",
       "    <tr style=\"text-align: right;\">\n",
       "      <th></th>\n",
       "      <th>attr1</th>\n",
       "      <th>attr2</th>\n",
       "      <th>attr3</th>\n",
       "      <th>attr4</th>\n",
       "      <th>attr5</th>\n",
       "      <th>attr6</th>\n",
       "      <th>attr7</th>\n",
       "      <th>attr8</th>\n",
       "      <th>attr9</th>\n",
       "      <th>attr10</th>\n",
       "      <th>...</th>\n",
       "      <th>attr55</th>\n",
       "      <th>attr56</th>\n",
       "      <th>attr57</th>\n",
       "      <th>attr58</th>\n",
       "      <th>attr59</th>\n",
       "      <th>attr60</th>\n",
       "      <th>attr61</th>\n",
       "      <th>attr62</th>\n",
       "      <th>attr63</th>\n",
       "      <th>attr64</th>\n",
       "    </tr>\n",
       "  </thead>\n",
       "  <tbody>\n",
       "    <tr>\n",
       "      <th>0</th>\n",
       "      <td>0.200550</td>\n",
       "      <td>0.37951</td>\n",
       "      <td>0.39641</td>\n",
       "      <td>2.0472</td>\n",
       "      <td>32.3510</td>\n",
       "      <td>0.38825</td>\n",
       "      <td>0.249760</td>\n",
       "      <td>1.33050</td>\n",
       "      <td>1.1389</td>\n",
       "      <td>0.50494</td>\n",
       "      <td>...</td>\n",
       "      <td>348690.0</td>\n",
       "      <td>0.121960</td>\n",
       "      <td>0.39718</td>\n",
       "      <td>0.87804</td>\n",
       "      <td>0.001924</td>\n",
       "      <td>8.4160</td>\n",
       "      <td>5.1372</td>\n",
       "      <td>82.658</td>\n",
       "      <td>4.4158</td>\n",
       "      <td>7.4277</td>\n",
       "    </tr>\n",
       "    <tr>\n",
       "      <th>1</th>\n",
       "      <td>0.209120</td>\n",
       "      <td>0.49988</td>\n",
       "      <td>0.47225</td>\n",
       "      <td>1.9447</td>\n",
       "      <td>14.7860</td>\n",
       "      <td>0.00000</td>\n",
       "      <td>0.258340</td>\n",
       "      <td>0.99601</td>\n",
       "      <td>1.6996</td>\n",
       "      <td>0.49788</td>\n",
       "      <td>...</td>\n",
       "      <td>2304.6</td>\n",
       "      <td>0.121300</td>\n",
       "      <td>0.42002</td>\n",
       "      <td>0.85300</td>\n",
       "      <td>0.000000</td>\n",
       "      <td>4.1486</td>\n",
       "      <td>3.2732</td>\n",
       "      <td>107.350</td>\n",
       "      <td>3.4000</td>\n",
       "      <td>60.9870</td>\n",
       "    </tr>\n",
       "    <tr>\n",
       "      <th>2</th>\n",
       "      <td>0.248660</td>\n",
       "      <td>0.69592</td>\n",
       "      <td>0.26713</td>\n",
       "      <td>1.5548</td>\n",
       "      <td>-1.1523</td>\n",
       "      <td>0.00000</td>\n",
       "      <td>0.309060</td>\n",
       "      <td>0.43695</td>\n",
       "      <td>1.3090</td>\n",
       "      <td>0.30408</td>\n",
       "      <td>...</td>\n",
       "      <td>6332.7</td>\n",
       "      <td>0.241140</td>\n",
       "      <td>0.81774</td>\n",
       "      <td>0.76599</td>\n",
       "      <td>0.694840</td>\n",
       "      <td>4.9909</td>\n",
       "      <td>3.9510</td>\n",
       "      <td>134.270</td>\n",
       "      <td>2.7185</td>\n",
       "      <td>5.2078</td>\n",
       "    </tr>\n",
       "    <tr>\n",
       "      <th>3</th>\n",
       "      <td>0.081483</td>\n",
       "      <td>0.30734</td>\n",
       "      <td>0.45879</td>\n",
       "      <td>2.4928</td>\n",
       "      <td>51.9520</td>\n",
       "      <td>0.14988</td>\n",
       "      <td>0.092704</td>\n",
       "      <td>1.86610</td>\n",
       "      <td>1.0571</td>\n",
       "      <td>0.57353</td>\n",
       "      <td>...</td>\n",
       "      <td>20545.0</td>\n",
       "      <td>0.054015</td>\n",
       "      <td>0.14207</td>\n",
       "      <td>0.94598</td>\n",
       "      <td>0.000000</td>\n",
       "      <td>4.5746</td>\n",
       "      <td>3.6147</td>\n",
       "      <td>86.435</td>\n",
       "      <td>4.2228</td>\n",
       "      <td>5.5497</td>\n",
       "    </tr>\n",
       "    <tr>\n",
       "      <th>4</th>\n",
       "      <td>0.187320</td>\n",
       "      <td>0.61323</td>\n",
       "      <td>0.22960</td>\n",
       "      <td>1.4063</td>\n",
       "      <td>-7.3128</td>\n",
       "      <td>0.18732</td>\n",
       "      <td>0.187320</td>\n",
       "      <td>0.63070</td>\n",
       "      <td>1.1559</td>\n",
       "      <td>0.38677</td>\n",
       "      <td>...</td>\n",
       "      <td>3186.6</td>\n",
       "      <td>0.134850</td>\n",
       "      <td>0.48431</td>\n",
       "      <td>0.86515</td>\n",
       "      <td>0.124440</td>\n",
       "      <td>6.3985</td>\n",
       "      <td>4.3158</td>\n",
       "      <td>127.210</td>\n",
       "      <td>2.8692</td>\n",
       "      <td>7.8980</td>\n",
       "    </tr>\n",
       "  </tbody>\n",
       "</table>\n",
       "<p>5 rows × 64 columns</p>\n",
       "</div>"
      ],
      "text/plain": [
       "      attr1    attr2    attr3   attr4    attr5    attr6     attr7    attr8  \\\n",
       "0  0.200550  0.37951  0.39641  2.0472  32.3510  0.38825  0.249760  1.33050   \n",
       "1  0.209120  0.49988  0.47225  1.9447  14.7860  0.00000  0.258340  0.99601   \n",
       "2  0.248660  0.69592  0.26713  1.5548  -1.1523  0.00000  0.309060  0.43695   \n",
       "3  0.081483  0.30734  0.45879  2.4928  51.9520  0.14988  0.092704  1.86610   \n",
       "4  0.187320  0.61323  0.22960  1.4063  -7.3128  0.18732  0.187320  0.63070   \n",
       "\n",
       "    attr9   attr10  ...    attr55    attr56   attr57   attr58    attr59  \\\n",
       "0  1.1389  0.50494  ...  348690.0  0.121960  0.39718  0.87804  0.001924   \n",
       "1  1.6996  0.49788  ...    2304.6  0.121300  0.42002  0.85300  0.000000   \n",
       "2  1.3090  0.30408  ...    6332.7  0.241140  0.81774  0.76599  0.694840   \n",
       "3  1.0571  0.57353  ...   20545.0  0.054015  0.14207  0.94598  0.000000   \n",
       "4  1.1559  0.38677  ...    3186.6  0.134850  0.48431  0.86515  0.124440   \n",
       "\n",
       "   attr60  attr61   attr62  attr63   attr64  \n",
       "0  8.4160  5.1372   82.658  4.4158   7.4277  \n",
       "1  4.1486  3.2732  107.350  3.4000  60.9870  \n",
       "2  4.9909  3.9510  134.270  2.7185   5.2078  \n",
       "3  4.5746  3.6147   86.435  4.2228   5.5497  \n",
       "4  6.3985  4.3158  127.210  2.8692   7.8980  \n",
       "\n",
       "[5 rows x 64 columns]"
      ]
     },
     "execution_count": 29,
     "metadata": {},
     "output_type": "execute_result"
    }
   ],
   "source": [
    "Mx = Mdf.drop(labels=['bankruptcy'], axis=1)\n",
    "My = Mdf['bankruptcy'].to_frame()\n",
    "Mx.head()"
   ]
  },
  {
   "cell_type": "code",
   "execution_count": 30,
   "id": "80d99740",
   "metadata": {},
   "outputs": [
    {
     "data": {
      "text/html": [
       "<div>\n",
       "<style scoped>\n",
       "    .dataframe tbody tr th:only-of-type {\n",
       "        vertical-align: middle;\n",
       "    }\n",
       "\n",
       "    .dataframe tbody tr th {\n",
       "        vertical-align: top;\n",
       "    }\n",
       "\n",
       "    .dataframe thead th {\n",
       "        text-align: right;\n",
       "    }\n",
       "</style>\n",
       "<table border=\"1\" class=\"dataframe\">\n",
       "  <thead>\n",
       "    <tr style=\"text-align: right;\">\n",
       "      <th></th>\n",
       "      <th>attr1</th>\n",
       "      <th>attr2</th>\n",
       "      <th>attr3</th>\n",
       "      <th>attr4</th>\n",
       "      <th>attr5</th>\n",
       "      <th>attr6</th>\n",
       "      <th>attr7</th>\n",
       "      <th>attr8</th>\n",
       "      <th>attr9</th>\n",
       "      <th>attr10</th>\n",
       "      <th>...</th>\n",
       "      <th>attr55</th>\n",
       "      <th>attr56</th>\n",
       "      <th>attr57</th>\n",
       "      <th>attr58</th>\n",
       "      <th>attr59</th>\n",
       "      <th>attr60</th>\n",
       "      <th>attr61</th>\n",
       "      <th>attr62</th>\n",
       "      <th>attr63</th>\n",
       "      <th>attr64</th>\n",
       "    </tr>\n",
       "  </thead>\n",
       "  <tbody>\n",
       "    <tr>\n",
       "      <th>0</th>\n",
       "      <td>0.200550</td>\n",
       "      <td>0.37951</td>\n",
       "      <td>0.39641</td>\n",
       "      <td>2.0472</td>\n",
       "      <td>32.3510</td>\n",
       "      <td>0.38825</td>\n",
       "      <td>0.249760</td>\n",
       "      <td>1.33050</td>\n",
       "      <td>1.1389</td>\n",
       "      <td>0.50494</td>\n",
       "      <td>...</td>\n",
       "      <td>348690.0</td>\n",
       "      <td>0.121960</td>\n",
       "      <td>0.39718</td>\n",
       "      <td>0.87804</td>\n",
       "      <td>0.001924</td>\n",
       "      <td>8.4160</td>\n",
       "      <td>5.1372</td>\n",
       "      <td>82.658</td>\n",
       "      <td>4.4158</td>\n",
       "      <td>7.4277</td>\n",
       "    </tr>\n",
       "    <tr>\n",
       "      <th>1</th>\n",
       "      <td>0.209120</td>\n",
       "      <td>0.49988</td>\n",
       "      <td>0.47225</td>\n",
       "      <td>1.9447</td>\n",
       "      <td>14.7860</td>\n",
       "      <td>0.00000</td>\n",
       "      <td>0.258340</td>\n",
       "      <td>0.99601</td>\n",
       "      <td>1.6996</td>\n",
       "      <td>0.49788</td>\n",
       "      <td>...</td>\n",
       "      <td>2304.6</td>\n",
       "      <td>0.121300</td>\n",
       "      <td>0.42002</td>\n",
       "      <td>0.85300</td>\n",
       "      <td>0.000000</td>\n",
       "      <td>4.1486</td>\n",
       "      <td>3.2732</td>\n",
       "      <td>107.350</td>\n",
       "      <td>3.4000</td>\n",
       "      <td>60.9870</td>\n",
       "    </tr>\n",
       "    <tr>\n",
       "      <th>2</th>\n",
       "      <td>0.248660</td>\n",
       "      <td>0.69592</td>\n",
       "      <td>0.26713</td>\n",
       "      <td>1.5548</td>\n",
       "      <td>-1.1523</td>\n",
       "      <td>0.00000</td>\n",
       "      <td>0.309060</td>\n",
       "      <td>0.43695</td>\n",
       "      <td>1.3090</td>\n",
       "      <td>0.30408</td>\n",
       "      <td>...</td>\n",
       "      <td>6332.7</td>\n",
       "      <td>0.241140</td>\n",
       "      <td>0.81774</td>\n",
       "      <td>0.76599</td>\n",
       "      <td>0.694840</td>\n",
       "      <td>4.9909</td>\n",
       "      <td>3.9510</td>\n",
       "      <td>134.270</td>\n",
       "      <td>2.7185</td>\n",
       "      <td>5.2078</td>\n",
       "    </tr>\n",
       "    <tr>\n",
       "      <th>3</th>\n",
       "      <td>0.081483</td>\n",
       "      <td>0.30734</td>\n",
       "      <td>0.45879</td>\n",
       "      <td>2.4928</td>\n",
       "      <td>51.9520</td>\n",
       "      <td>0.14988</td>\n",
       "      <td>0.092704</td>\n",
       "      <td>1.86610</td>\n",
       "      <td>1.0571</td>\n",
       "      <td>0.57353</td>\n",
       "      <td>...</td>\n",
       "      <td>20545.0</td>\n",
       "      <td>0.054015</td>\n",
       "      <td>0.14207</td>\n",
       "      <td>0.94598</td>\n",
       "      <td>0.000000</td>\n",
       "      <td>4.5746</td>\n",
       "      <td>3.6147</td>\n",
       "      <td>86.435</td>\n",
       "      <td>4.2228</td>\n",
       "      <td>5.5497</td>\n",
       "    </tr>\n",
       "    <tr>\n",
       "      <th>4</th>\n",
       "      <td>0.187320</td>\n",
       "      <td>0.61323</td>\n",
       "      <td>0.22960</td>\n",
       "      <td>1.4063</td>\n",
       "      <td>-7.3128</td>\n",
       "      <td>0.18732</td>\n",
       "      <td>0.187320</td>\n",
       "      <td>0.63070</td>\n",
       "      <td>1.1559</td>\n",
       "      <td>0.38677</td>\n",
       "      <td>...</td>\n",
       "      <td>3186.6</td>\n",
       "      <td>0.134850</td>\n",
       "      <td>0.48431</td>\n",
       "      <td>0.86515</td>\n",
       "      <td>0.124440</td>\n",
       "      <td>6.3985</td>\n",
       "      <td>4.3158</td>\n",
       "      <td>127.210</td>\n",
       "      <td>2.8692</td>\n",
       "      <td>7.8980</td>\n",
       "    </tr>\n",
       "  </tbody>\n",
       "</table>\n",
       "<p>5 rows × 64 columns</p>\n",
       "</div>"
      ],
      "text/plain": [
       "      attr1    attr2    attr3   attr4    attr5    attr6     attr7    attr8  \\\n",
       "0  0.200550  0.37951  0.39641  2.0472  32.3510  0.38825  0.249760  1.33050   \n",
       "1  0.209120  0.49988  0.47225  1.9447  14.7860  0.00000  0.258340  0.99601   \n",
       "2  0.248660  0.69592  0.26713  1.5548  -1.1523  0.00000  0.309060  0.43695   \n",
       "3  0.081483  0.30734  0.45879  2.4928  51.9520  0.14988  0.092704  1.86610   \n",
       "4  0.187320  0.61323  0.22960  1.4063  -7.3128  0.18732  0.187320  0.63070   \n",
       "\n",
       "    attr9   attr10  ...    attr55    attr56   attr57   attr58    attr59  \\\n",
       "0  1.1389  0.50494  ...  348690.0  0.121960  0.39718  0.87804  0.001924   \n",
       "1  1.6996  0.49788  ...    2304.6  0.121300  0.42002  0.85300  0.000000   \n",
       "2  1.3090  0.30408  ...    6332.7  0.241140  0.81774  0.76599  0.694840   \n",
       "3  1.0571  0.57353  ...   20545.0  0.054015  0.14207  0.94598  0.000000   \n",
       "4  1.1559  0.38677  ...    3186.6  0.134850  0.48431  0.86515  0.124440   \n",
       "\n",
       "   attr60  attr61   attr62  attr63   attr64  \n",
       "0  8.4160  5.1372   82.658  4.4158   7.4277  \n",
       "1  4.1486  3.2732  107.350  3.4000  60.9870  \n",
       "2  4.9909  3.9510  134.270  2.7185   5.2078  \n",
       "3  4.5746  3.6147   86.435  4.2228   5.5497  \n",
       "4  6.3985  4.3158  127.210  2.8692   7.8980  \n",
       "\n",
       "[5 rows x 64 columns]"
      ]
     },
     "execution_count": 30,
     "metadata": {},
     "output_type": "execute_result"
    }
   ],
   "source": [
    "Kx = Kdf.drop(labels=['bankruptcy'], axis=1)\n",
    "Ky = Kdf['bankruptcy'].to_frame()\n",
    "Kx.head()"
   ]
  },
  {
   "cell_type": "code",
   "execution_count": 31,
   "id": "fb928a2d",
   "metadata": {},
   "outputs": [
    {
     "data": {
      "text/html": [
       "<div>\n",
       "<style scoped>\n",
       "    .dataframe tbody tr th:only-of-type {\n",
       "        vertical-align: middle;\n",
       "    }\n",
       "\n",
       "    .dataframe tbody tr th {\n",
       "        vertical-align: top;\n",
       "    }\n",
       "\n",
       "    .dataframe thead th {\n",
       "        text-align: right;\n",
       "    }\n",
       "</style>\n",
       "<table border=\"1\" class=\"dataframe\">\n",
       "  <thead>\n",
       "    <tr style=\"text-align: right;\">\n",
       "      <th></th>\n",
       "      <th>attr1</th>\n",
       "      <th>attr2</th>\n",
       "      <th>attr3</th>\n",
       "      <th>attr4</th>\n",
       "      <th>attr5</th>\n",
       "      <th>attr6</th>\n",
       "      <th>attr7</th>\n",
       "      <th>attr8</th>\n",
       "      <th>attr9</th>\n",
       "      <th>attr10</th>\n",
       "      <th>...</th>\n",
       "      <th>attr54</th>\n",
       "      <th>attr55</th>\n",
       "      <th>attr56</th>\n",
       "      <th>attr57</th>\n",
       "      <th>attr58</th>\n",
       "      <th>attr59</th>\n",
       "      <th>attr61</th>\n",
       "      <th>attr62</th>\n",
       "      <th>attr63</th>\n",
       "      <th>attr64</th>\n",
       "    </tr>\n",
       "  </thead>\n",
       "  <tbody>\n",
       "    <tr>\n",
       "      <th>0</th>\n",
       "      <td>0.200550</td>\n",
       "      <td>0.37951</td>\n",
       "      <td>0.396410</td>\n",
       "      <td>2.0472</td>\n",
       "      <td>32.3510</td>\n",
       "      <td>0.388250</td>\n",
       "      <td>0.249760</td>\n",
       "      <td>1.33050</td>\n",
       "      <td>1.13890</td>\n",
       "      <td>0.50494</td>\n",
       "      <td>...</td>\n",
       "      <td>2.2480</td>\n",
       "      <td>348690.0000</td>\n",
       "      <td>0.121960</td>\n",
       "      <td>0.397180</td>\n",
       "      <td>0.87804</td>\n",
       "      <td>0.001924</td>\n",
       "      <td>5.1372</td>\n",
       "      <td>82.658</td>\n",
       "      <td>4.4158</td>\n",
       "      <td>7.42770</td>\n",
       "    </tr>\n",
       "    <tr>\n",
       "      <th>1</th>\n",
       "      <td>0.081483</td>\n",
       "      <td>0.30734</td>\n",
       "      <td>0.458790</td>\n",
       "      <td>2.4928</td>\n",
       "      <td>51.9520</td>\n",
       "      <td>0.149880</td>\n",
       "      <td>0.092704</td>\n",
       "      <td>1.86610</td>\n",
       "      <td>1.05710</td>\n",
       "      <td>0.57353</td>\n",
       "      <td>...</td>\n",
       "      <td>2.4524</td>\n",
       "      <td>20545.0000</td>\n",
       "      <td>0.054015</td>\n",
       "      <td>0.142070</td>\n",
       "      <td>0.94598</td>\n",
       "      <td>0.000000</td>\n",
       "      <td>3.6147</td>\n",
       "      <td>86.435</td>\n",
       "      <td>4.2228</td>\n",
       "      <td>5.54970</td>\n",
       "    </tr>\n",
       "    <tr>\n",
       "      <th>2</th>\n",
       "      <td>0.187320</td>\n",
       "      <td>0.61323</td>\n",
       "      <td>0.229600</td>\n",
       "      <td>1.4063</td>\n",
       "      <td>-7.3128</td>\n",
       "      <td>0.187320</td>\n",
       "      <td>0.187320</td>\n",
       "      <td>0.63070</td>\n",
       "      <td>1.15590</td>\n",
       "      <td>0.38677</td>\n",
       "      <td>...</td>\n",
       "      <td>2.1184</td>\n",
       "      <td>3186.6000</td>\n",
       "      <td>0.134850</td>\n",
       "      <td>0.484310</td>\n",
       "      <td>0.86515</td>\n",
       "      <td>0.124440</td>\n",
       "      <td>4.3158</td>\n",
       "      <td>127.210</td>\n",
       "      <td>2.8692</td>\n",
       "      <td>7.89800</td>\n",
       "    </tr>\n",
       "    <tr>\n",
       "      <th>3</th>\n",
       "      <td>0.009020</td>\n",
       "      <td>0.63202</td>\n",
       "      <td>0.053735</td>\n",
       "      <td>1.1263</td>\n",
       "      <td>-37.8420</td>\n",
       "      <td>0.000000</td>\n",
       "      <td>0.014434</td>\n",
       "      <td>0.58223</td>\n",
       "      <td>1.33320</td>\n",
       "      <td>0.36798</td>\n",
       "      <td>...</td>\n",
       "      <td>0.9476</td>\n",
       "      <td>1.1263</td>\n",
       "      <td>0.180110</td>\n",
       "      <td>0.024512</td>\n",
       "      <td>0.84165</td>\n",
       "      <td>0.340940</td>\n",
       "      <td>4.2382</td>\n",
       "      <td>116.500</td>\n",
       "      <td>3.1330</td>\n",
       "      <td>2.56030</td>\n",
       "    </tr>\n",
       "    <tr>\n",
       "      <th>4</th>\n",
       "      <td>-0.027117</td>\n",
       "      <td>0.11148</td>\n",
       "      <td>0.119890</td>\n",
       "      <td>2.0754</td>\n",
       "      <td>-31.6430</td>\n",
       "      <td>-0.084883</td>\n",
       "      <td>-0.024300</td>\n",
       "      <td>7.67410</td>\n",
       "      <td>0.90732</td>\n",
       "      <td>0.85551</td>\n",
       "      <td>...</td>\n",
       "      <td>1.1130</td>\n",
       "      <td>1366.5000</td>\n",
       "      <td>-0.102140</td>\n",
       "      <td>-0.031697</td>\n",
       "      <td>1.10210</td>\n",
       "      <td>0.000000</td>\n",
       "      <td>13.4610</td>\n",
       "      <td>76.732</td>\n",
       "      <td>4.7568</td>\n",
       "      <td>0.68991</td>\n",
       "    </tr>\n",
       "  </tbody>\n",
       "</table>\n",
       "<p>5 rows × 59 columns</p>\n",
       "</div>"
      ],
      "text/plain": [
       "      attr1    attr2     attr3   attr4    attr5     attr6     attr7    attr8  \\\n",
       "0  0.200550  0.37951  0.396410  2.0472  32.3510  0.388250  0.249760  1.33050   \n",
       "1  0.081483  0.30734  0.458790  2.4928  51.9520  0.149880  0.092704  1.86610   \n",
       "2  0.187320  0.61323  0.229600  1.4063  -7.3128  0.187320  0.187320  0.63070   \n",
       "3  0.009020  0.63202  0.053735  1.1263 -37.8420  0.000000  0.014434  0.58223   \n",
       "4 -0.027117  0.11148  0.119890  2.0754 -31.6430 -0.084883 -0.024300  7.67410   \n",
       "\n",
       "     attr9   attr10  ...  attr54       attr55    attr56    attr57   attr58  \\\n",
       "0  1.13890  0.50494  ...  2.2480  348690.0000  0.121960  0.397180  0.87804   \n",
       "1  1.05710  0.57353  ...  2.4524   20545.0000  0.054015  0.142070  0.94598   \n",
       "2  1.15590  0.38677  ...  2.1184    3186.6000  0.134850  0.484310  0.86515   \n",
       "3  1.33320  0.36798  ...  0.9476       1.1263  0.180110  0.024512  0.84165   \n",
       "4  0.90732  0.85551  ...  1.1130    1366.5000 -0.102140 -0.031697  1.10210   \n",
       "\n",
       "     attr59   attr61   attr62  attr63   attr64  \n",
       "0  0.001924   5.1372   82.658  4.4158  7.42770  \n",
       "1  0.000000   3.6147   86.435  4.2228  5.54970  \n",
       "2  0.124440   4.3158  127.210  2.8692  7.89800  \n",
       "3  0.340940   4.2382  116.500  3.1330  2.56030  \n",
       "4  0.000000  13.4610   76.732  4.7568  0.68991  \n",
       "\n",
       "[5 rows x 59 columns]"
      ]
     },
     "execution_count": 31,
     "metadata": {},
     "output_type": "execute_result"
    }
   ],
   "source": [
    "Sx = Sdf.drop(labels=['bankruptcy'], axis=1)\n",
    "Sy = Sdf['bankruptcy'].to_frame()\n",
    "Sx.head()"
   ]
  },
  {
   "cell_type": "markdown",
   "id": "fd172597",
   "metadata": {},
   "source": [
    "# train_test_split"
   ]
  },
  {
   "cell_type": "code",
   "execution_count": 32,
   "id": "d579c61f",
   "metadata": {},
   "outputs": [],
   "source": [
    "from sklearn.model_selection import train_test_split # 학습, 테스트set 구분\n",
    "Mx_train, Mx_test, My_train, My_test = train_test_split(Mx, My,test_size=0.3,random_state=2022)"
   ]
  },
  {
   "cell_type": "code",
   "execution_count": 33,
   "id": "9bd54029",
   "metadata": {},
   "outputs": [],
   "source": [
    "from sklearn.model_selection import train_test_split # 학습, 테스트set 구분\n",
    "Kx_train, Kx_test, Ky_train, Ky_test = train_test_split(Kx, Ky,test_size=0.3,random_state=2022)"
   ]
  },
  {
   "cell_type": "code",
   "execution_count": 34,
   "id": "3eed806d",
   "metadata": {},
   "outputs": [],
   "source": [
    "from sklearn.model_selection import train_test_split # 학습, 테스트set 구분\n",
    "Sx_train, Sx_test, Sy_train, Sy_test = train_test_split(Sx, Sy,test_size=0.3,random_state=2022)"
   ]
  },
  {
   "cell_type": "markdown",
   "id": "47ae3ee7",
   "metadata": {},
   "source": [
    "# Oversampling 진행"
   ]
  },
  {
   "cell_type": "code",
   "execution_count": 35,
   "id": "99400e70",
   "metadata": {},
   "outputs": [
    {
     "data": {
      "text/plain": [
       "Text(0.5, 1.0, 'Class Distributions \\n (0: Fin. Stable || 1: Fin. Unstable)')"
      ]
     },
     "execution_count": 35,
     "metadata": {},
     "output_type": "execute_result"
    },
    {
     "data": {
      "image/png": "[encoded data removed]",
      "text/plain": [
       "<Figure size 432x288 with 1 Axes>"
      ]
     },
     "metadata": {
      "needs_background": "light"
     },
     "output_type": "display_data"
    }
   ],
   "source": [
    "# SMOTE 패키지로 oversampling 진행\n",
    "from imblearn.over_sampling import SMOTE\n",
    "smote = SMOTE(random_state=42, k_neighbors=5)\n",
    "Mdf, My = smote.fit_resample(Mx_train, My_train)\n",
    "\n",
    "sns.countplot(x=My['bankruptcy'])\n",
    "plt.title('Class Distributions \\n (0: Fin. Stable || 1: Fin. Unstable)')"
   ]
  },
  {
   "cell_type": "code",
   "execution_count": 36,
   "id": "3a8c897c",
   "metadata": {},
   "outputs": [
    {
     "data": {
      "text/plain": [
       "Text(0.5, 1.0, 'Class Distributions \\n (0: Fin. Stable || 1: Fin. Unstable)')"
      ]
     },
     "execution_count": 36,
     "metadata": {},
     "output_type": "execute_result"
    },
    {
     "data": {
      "image/png": "[encoded data removed]",
      "text/plain": [
       "<Figure size 432x288 with 1 Axes>"
      ]
     },
     "metadata": {
      "needs_background": "light"
     },
     "output_type": "display_data"
    }
   ],
   "source": [
    "# SMOTE 패키지로 oversampling 진행\n",
    "from imblearn.over_sampling import SMOTE\n",
    "smote = SMOTE(random_state=42, k_neighbors=5)\n",
    "Kdf, Ky = smote.fit_resample(Kx_train, Ky_train)\n",
    "\n",
    "sns.countplot(x=Ky['bankruptcy'])\n",
    "plt.title('Class Distributions \\n (0: Fin. Stable || 1: Fin. Unstable)')"
   ]
  },
  {
   "cell_type": "code",
   "execution_count": 37,
   "id": "5680af19",
   "metadata": {},
   "outputs": [
    {
     "data": {
      "text/plain": [
       "Text(0.5, 1.0, 'Class Distributions \\n (0: Fin. Stable || 1: Fin. Unstable)')"
      ]
     },
     "execution_count": 37,
     "metadata": {},
     "output_type": "execute_result"
    },
    {
     "data": {
      "image/png": "[encoded data removed]",
      "text/plain": [
       "<Figure size 432x288 with 1 Axes>"
      ]
     },
     "metadata": {
      "needs_background": "light"
     },
     "output_type": "display_data"
    }
   ],
   "source": [
    "# SMOTE 패키지로 oversampling 진행\n",
    "from imblearn.over_sampling import SMOTE\n",
    "smote = SMOTE(random_state=42, k_neighbors=5)\n",
    "Sdf, Sy = smote.fit_resample(Sx_train, Sy_train)\n",
    "\n",
    "sns.countplot(x=Sy['bankruptcy'])\n",
    "plt.title('Class Distributions \\n (0: Fin. Stable || 1: Fin. Unstable)')"
   ]
  },
  {
   "cell_type": "markdown",
   "id": "de58d138",
   "metadata": {},
   "source": [
    "# Modeling - RandomForest"
   ]
  },
  {
   "cell_type": "code",
   "execution_count": 38,
   "id": "2a2e2503",
   "metadata": {},
   "outputs": [],
   "source": [
    "from sklearn.ensemble import RandomForestClassifier"
   ]
  },
  {
   "cell_type": "code",
   "execution_count": 39,
   "id": "3adf0448",
   "metadata": {
    "scrolled": true
   },
   "outputs": [
    {
     "data": {
      "text/plain": [
       "RandomForestClassifier(max_depth=12, random_state=256)"
      ]
     },
     "execution_count": 39,
     "metadata": {},
     "output_type": "execute_result"
    }
   ],
   "source": [
    "Mforest = RandomForestClassifier(n_estimators=100,max_depth=12, random_state=256)\n",
    "Mforest.fit(Mdf, My)"
   ]
  },
  {
   "cell_type": "code",
   "execution_count": 40,
   "id": "2c1fc07f",
   "metadata": {},
   "outputs": [
    {
     "data": {
      "text/plain": [
       "RandomForestClassifier(max_depth=12, random_state=256)"
      ]
     },
     "execution_count": 40,
     "metadata": {},
     "output_type": "execute_result"
    }
   ],
   "source": [
    "Kforest = RandomForestClassifier(n_estimators=100,max_depth=12, random_state=256)\n",
    "Kforest.fit(Kdf, Ky)"
   ]
  },
  {
   "cell_type": "code",
   "execution_count": 41,
   "id": "7cd3035f",
   "metadata": {},
   "outputs": [
    {
     "data": {
      "text/plain": [
       "RandomForestClassifier(max_depth=12, random_state=256)"
      ]
     },
     "execution_count": 41,
     "metadata": {},
     "output_type": "execute_result"
    }
   ],
   "source": [
    "Sforest = RandomForestClassifier(n_estimators=100,max_depth=12, random_state=256)\n",
    "Sforest.fit(Sdf, Sy)"
   ]
  },
  {
   "cell_type": "markdown",
   "id": "3084bb1b",
   "metadata": {},
   "source": [
    "# Prediction"
   ]
  },
  {
   "cell_type": "code",
   "execution_count": 42,
   "id": "e542b7a1",
   "metadata": {},
   "outputs": [],
   "source": [
    "My_pred=Mforest.predict(Mx_test)"
   ]
  },
  {
   "cell_type": "code",
   "execution_count": 43,
   "id": "d886ff5b",
   "metadata": {},
   "outputs": [],
   "source": [
    "Ky_pred=Kforest.predict(Kx_test)"
   ]
  },
  {
   "cell_type": "code",
   "execution_count": 44,
   "id": "279064d4",
   "metadata": {},
   "outputs": [],
   "source": [
    "Sy_pred=Sforest.predict(Sx_test)"
   ]
  },
  {
   "cell_type": "markdown",
   "id": "7504e2f1",
   "metadata": {},
   "source": [
    "# Accuracy"
   ]
  },
  {
   "cell_type": "code",
   "execution_count": 45,
   "id": "7c21775f",
   "metadata": {},
   "outputs": [
    {
     "name": "stdout",
     "output_type": "stream",
     "text": [
      "훈련 세트 정확도: 0.952\n",
      "테스트 세트 정확도: 0.860\n"
     ]
    }
   ],
   "source": [
    "print(\"훈련 세트 정확도: {:.3f}\".format(Mforest.score(Mdf, My)))\n",
    "print(\"테스트 세트 정확도: {:.3f}\".format(Mforest.score(Mx_test, My_test)))"
   ]
  },
  {
   "cell_type": "code",
   "execution_count": 46,
   "id": "d897c69d",
   "metadata": {},
   "outputs": [
    {
     "name": "stdout",
     "output_type": "stream",
     "text": [
      "훈련 세트 정확도: 0.923\n",
      "테스트 세트 정확도: 0.816\n"
     ]
    }
   ],
   "source": [
    "print(\"훈련 세트 정확도: {:.3f}\".format(Kforest.score(Kdf, Ky)))\n",
    "print(\"테스트 세트 정확도: {:.3f}\".format(Kforest.score(Kx_test, Ky_test)))"
   ]
  },
  {
   "cell_type": "code",
   "execution_count": 47,
   "id": "a7f71a02",
   "metadata": {},
   "outputs": [
    {
     "name": "stdout",
     "output_type": "stream",
     "text": [
      "훈련 세트 정확도: 0.931\n",
      "테스트 세트 정확도: 0.805\n"
     ]
    }
   ],
   "source": [
    "print(\"훈련 세트 정확도: {:.3f}\".format(Sforest.score(Sdf, Sy)))\n",
    "print(\"테스트 세트 정확도: {:.3f}\".format(Sforest.score(Sx_test, Sy_test)))"
   ]
  },
  {
   "cell_type": "markdown",
   "id": "b87747c8",
   "metadata": {},
   "source": [
    "# Confusion Matrix"
   ]
  },
  {
   "cell_type": "code",
   "execution_count": 48,
   "id": "a08d809a",
   "metadata": {},
   "outputs": [
    {
     "name": "stdout",
     "output_type": "stream",
     "text": [
      "Train_Accuracy :  0.9516914119359534 \n",
      "\n",
      "Test_Accuracy :  0.859593294008072 \n",
      "\n",
      "Accuracy:  0.86 \n",
      "\n",
      "Recall:  0.86 \n",
      "\n",
      "Precision:  0.86 \n",
      "\n",
      "F1_score:  0.86 \n",
      "\n",
      "Confusion Matrix: \n",
      " [[10975   427   262   288   152   182]\n",
      " [   33    38    24    13     1    11]\n",
      " [   49    31    14    15    13     8]\n",
      " [   53    21    17    21    14    14]\n",
      " [   47    14    14    21    10    19]\n",
      " [   24     9    10    11    12    17]]\n"
     ]
    }
   ],
   "source": [
    "import sklearn.metrics as mt # 성능지표를 계산하기 위해 import\n",
    "# 학습결과 평가\n",
    "print(\"Train_Accuracy : \", Mforest.score(Mdf, My), '\\n')\n",
    "print(\"Test_Accuracy : \", Mforest.score(Mx_test, My_test), '\\n')\n",
    "\n",
    "# 다중 클래스 분류일 경우 average='micro' 를 하이퍼파라미터로 넣어줌(accuracy, matrix 제외)\n",
    "accuracy = mt.accuracy_score(My_test, My_pred)\n",
    "recall = mt.recall_score(My_test, My_pred,average='micro')\n",
    "precision = mt.precision_score(My_test, My_pred,average='micro')\n",
    "f1_score = mt.f1_score(My_test, My_pred,average='micro')\n",
    "matrix = mt.confusion_matrix(My_test, My_pred)\n",
    "\n",
    "print('Accuracy: ', format(accuracy,'.2f'),'\\n')\n",
    "print('Recall: ', format(recall,'.2f'),'\\n')\n",
    "print('Precision: ', format(precision,'.2f'),'\\n')\n",
    "print('F1_score: ', format(f1_score,'.2f'),'\\n')\n",
    "print('Confusion Matrix:','\\n', matrix)"
   ]
  },
  {
   "cell_type": "code",
   "execution_count": 49,
   "id": "064a06f6",
   "metadata": {},
   "outputs": [
    {
     "name": "stdout",
     "output_type": "stream",
     "text": [
      "Train_Accuracy :  0.9229170305676856 \n",
      "\n",
      "Test_Accuracy :  0.8163613784538963 \n",
      "\n",
      "Accuracy:  0.82 \n",
      "\n",
      "Recall:  0.82 \n",
      "\n",
      "Precision:  0.82 \n",
      "\n",
      "F1_score:  0.82 \n",
      "\n",
      "Confusion Matrix: \n",
      " [[10427   403   379   413   251   413]\n",
      " [   45    28    22    14     4     7]\n",
      " [   58    23    10    21     5    13]\n",
      " [   60    15    20    22    10    13]\n",
      " [   48     4    16    22    11    24]\n",
      " [   33     5     6     5    14    20]]\n"
     ]
    }
   ],
   "source": [
    "import sklearn.metrics as mt # 성능지표를 계산하기 위해 import\n",
    "# 학습결과 평가\n",
    "print(\"Train_Accuracy : \", Kforest.score(Kdf, Ky), '\\n')\n",
    "print(\"Test_Accuracy : \", Kforest.score(Kx_test, Ky_test), '\\n')\n",
    "\n",
    "# 다중 클래스 분류일 경우 average='micro' 를 하이퍼파라미터로 넣어줌(accuracy, matrix 제외)\n",
    "accuracy = mt.accuracy_score(Ky_test, Ky_pred)\n",
    "recall = mt.recall_score(Ky_test, Ky_pred,average='micro')\n",
    "precision = mt.precision_score(Ky_test, Ky_pred,average='micro')\n",
    "f1_score = mt.f1_score(Ky_test, Ky_pred,average='micro')\n",
    "matrix = mt.confusion_matrix(Ky_test, Ky_pred)\n",
    "\n",
    "print('Accuracy: ', format(accuracy,'.2f'),'\\n')\n",
    "print('Recall: ', format(recall,'.2f'),'\\n')\n",
    "print('Precision: ', format(precision,'.2f'),'\\n')\n",
    "print('F1_score: ', format(f1_score,'.2f'),'\\n')\n",
    "print('Confusion Matrix:','\\n', matrix)"
   ]
  },
  {
   "cell_type": "code",
   "execution_count": 50,
   "id": "1bd8a6be",
   "metadata": {},
   "outputs": [
    {
     "name": "stdout",
     "output_type": "stream",
     "text": [
      "Train_Accuracy :  0.9314723035718755 \n",
      "\n",
      "Test_Accuracy :  0.804558356987811 \n",
      "\n",
      "Accuracy:  0.80 \n",
      "\n",
      "Recall:  0.80 \n",
      "\n",
      "Precision:  0.80 \n",
      "\n",
      "F1_score:  0.80 \n",
      "\n",
      "Confusion Matrix: \n",
      " [[9564  374  260  459  319  429]\n",
      " [  32   29   14   12    6    9]\n",
      " [  60   36    7   26    6    9]\n",
      " [  60   17   19   16   12   16]\n",
      " [  47   13    8   16    7   16]\n",
      " [  36    5    1   10   14   14]]\n"
     ]
    }
   ],
   "source": [
    "import sklearn.metrics as mt # 성능지표를 계산하기 위해 import\n",
    "# 학습결과 평가\n",
    "print(\"Train_Accuracy : \", Sforest.score(Sdf, Sy), '\\n')\n",
    "print(\"Test_Accuracy : \", Sforest.score(Sx_test, Sy_test), '\\n')\n",
    "\n",
    "# 다중 클래스 분류일 경우 average='micro' 를 하이퍼파라미터로 넣어줌(accuracy, matrix 제외)\n",
    "accuracy = mt.accuracy_score(Sy_test, Sy_pred)\n",
    "recall = mt.recall_score(Sy_test, Sy_pred,average='micro')\n",
    "precision = mt.precision_score(Sy_test, Sy_pred,average='micro')\n",
    "f1_score = mt.f1_score(Sy_test, Sy_pred,average='micro')\n",
    "matrix = mt.confusion_matrix(Sy_test, Sy_pred)\n",
    "\n",
    "print('Accuracy: ', format(accuracy,'.2f'),'\\n')\n",
    "print('Recall: ', format(recall,'.2f'),'\\n')\n",
    "print('Precision: ', format(precision,'.2f'),'\\n')\n",
    "print('F1_score: ', format(f1_score,'.2f'),'\\n')\n",
    "print('Confusion Matrix:','\\n', matrix)"
   ]
  },
  {
   "cell_type": "markdown",
   "id": "6379e8af",
   "metadata": {},
   "source": [
    "# Unseen Data"
   ]
  },
  {
   "cell_type": "code",
   "execution_count": 51,
   "id": "05f6a383",
   "metadata": {},
   "outputs": [],
   "source": [
    "# 파일 받아오기\n",
    "# 6class\n",
    "Sdf_u = pd.read_csv('Sdf_unseen_6label.csv')\n",
    "Kdf_u = pd.read_csv('Kdf_unseen_6label.csv')\n",
    "Mdf_u = pd.read_csv('Mdf_unseen_6label.csv')\n",
    "Mx = Mdf_u.drop(labels=['bankruptcy'], axis=1)\n",
    "My = Mdf_u['bankruptcy'].to_frame()\n",
    "Kx = Kdf_u.drop(labels=['bankruptcy'], axis=1)\n",
    "Ky = Kdf_u['bankruptcy'].to_frame()\n",
    "Sx = Sdf_u.drop(labels=['bankruptcy'], axis=1)\n",
    "Sy = Sdf_u['bankruptcy'].to_frame()"
   ]
  },
  {
   "cell_type": "code",
   "execution_count": 53,
   "id": "eaba0fec",
   "metadata": {},
   "outputs": [],
   "source": [
    "U_My_pred=Mforest.predict(Mx)\n",
    "U_Ky_pred=Kforest.predict(Kx)\n",
    "U_Sy_pred=Sforest.predict(Sx)"
   ]
  },
  {
   "cell_type": "code",
   "execution_count": 57,
   "id": "ae991c17",
   "metadata": {},
   "outputs": [],
   "source": [
    "def matrix_show(model,xtest,ytest,pred):\n",
    "    # 학습결과 평가\n",
    "    print(\"Test_Accuracy : \", model.score(xtest,ytest), '\\n')\n",
    "\n",
    "    # 다중 클래스 분류일 경우 average='micro' 를 하이퍼파라미터로 넣어줌(accuracy, matrix 제외)\n",
    "    accuracy = mt.accuracy_score(ytest, pred)\n",
    "    recall = mt.recall_score(ytest, pred,average='micro')\n",
    "    precision = mt.precision_score(ytest,pred,average='micro')\n",
    "    f1_score = mt.f1_score(ytest, pred,average='micro')\n",
    "    matrix = mt.confusion_matrix(ytest, pred)\n",
    "\n",
    "    print('Accuracy: ', format(accuracy,'.2f'),'\\n')\n",
    "    print('Recall: ', format(recall,'.2f'),'\\n')\n",
    "    print('Precision: ', format(precision,'.2f'),'\\n')\n",
    "    print('F1_score: ', format(f1_score,'.2f'),'\\n')\n",
    "    print('Confusion Matrix:','\\n', matrix)"
   ]
  },
  {
   "cell_type": "code",
   "execution_count": 58,
   "id": "de9cf732",
   "metadata": {},
   "outputs": [
    {
     "name": "stdout",
     "output_type": "stream",
     "text": [
      "Test_Accuracy :  0.3 \n",
      "\n",
      "Accuracy:  0.30 \n",
      "\n",
      "Recall:  0.30 \n",
      "\n",
      "Precision:  0.30 \n",
      "\n",
      "F1_score:  0.30 \n",
      "\n",
      "Confusion Matrix: \n",
      " [[10  0  0  0  0  0]\n",
      " [ 2  4  2  0  1  1]\n",
      " [ 2  2  1  4  1  0]\n",
      " [ 6  2  1  0  1  0]\n",
      " [ 3  0  2  2  1  2]\n",
      " [ 3  0  1  2  2  2]]\n"
     ]
    }
   ],
   "source": [
    "matrix_show(Mforest,Mx,My,U_My_pred)"
   ]
  },
  {
   "cell_type": "code",
   "execution_count": null,
   "id": "b4ae87e3",
   "metadata": {},
   "outputs": [],
   "source": []
  },
  {
   "cell_type": "code",
   "execution_count": null,
   "id": "0701e3f9",
   "metadata": {},
   "outputs": [],
   "source": []
  }
 ],
 "metadata": {
  "kernelspec": {
   "display_name": "Python 3 (ipykernel)",
   "language": "python",
   "name": "python3"
  },
  "language_info": {
   "codemirror_mode": {
    "name": "ipython",
    "version": 3
   },
   "file_extension": ".py",
   "mimetype": "text/x-python",
   "name": "python",
   "nbconvert_exporter": "python",
   "pygments_lexer": "ipython3",
   "version": "3.9.5"
  }
 },
 "nbformat": 4,
 "nbformat_minor": 5
}
