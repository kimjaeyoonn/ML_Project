{
 "cells": [
  {
   "cell_type": "markdown",
   "id": "910faea1",
   "metadata": {},
   "source": [
    "# 필요한 라이브러리 설치"
   ]
  },
  {
   "cell_type": "code",
   "execution_count": 6,
   "id": "da500d7c",
   "metadata": {},
   "outputs": [],
   "source": [
    "from sklearn.manifold import TSNE\n",
    "import os\n",
    "import pandas as pd\n",
    "import numpy as np\n",
    "import matplotlib.pyplot as plt\n",
    "from mpl_toolkits.mplot3d import Axes3D\n",
    "from mpl_toolkits.mplot3d import proj3d\n",
    "import seaborn as sns\n",
    "import warnings\n",
    "import sklearn\n",
    "import missingno as msno\n",
    "import math\n",
    "warnings.filterwarnings('ignore')"
   ]
  },
  {
   "cell_type": "markdown",
   "id": "94549786",
   "metadata": {},
   "source": [
    "# Data 불러오기"
   ]
  },
  {
   "cell_type": "code",
   "execution_count": 7,
   "id": "fe522f52",
   "metadata": {},
   "outputs": [],
   "source": [
    "Simple_df =pd.read_csv(\"D:\\Jupyter_Project\\ML_Team\\Data\\label3\\Sdf_3label.csv\")\n",
    "KNN_df=pd.read_csv(\"D:\\Jupyter_Project\\ML_Team\\Data\\label3\\Kdf_3label.csv\")\n",
    "MICE_df=pd.read_csv(\"D:\\Jupyter_Project\\ML_Team\\Data\\label3\\Mdf_3label.csv\")"
   ]
  },
  {
   "cell_type": "code",
   "execution_count": 5,
   "id": "9201db7c",
   "metadata": {},
   "outputs": [
    {
     "data": {
      "text/plain": [
       "array([0, 2, 1], dtype=int64)"
      ]
     },
     "execution_count": 5,
     "metadata": {},
     "output_type": "execute_result"
    }
   ],
   "source": [
    "KNN_df['bankruptcy'].unique()"
   ]
  },
  {
   "cell_type": "markdown",
   "id": "780e5f32",
   "metadata": {},
   "source": [
    "# 2차원 시각화 함수"
   ]
  },
  {
   "cell_type": "code",
   "execution_count": 8,
   "id": "bc58771f",
   "metadata": {},
   "outputs": [],
   "source": [
    "def two_dimension_visual_plot(tsne_df,origin_df,imputer):\n",
    "    tsne_df['bankruptcy'] = origin_df['bankruptcy'] \n",
    " \n",
    "    tsne_df_0_ab = tsne_df[tsne_df['bankruptcy'] == 0]\n",
    "    tsne_df_1_ab = tsne_df[tsne_df['bankruptcy'] == 1]\n",
    "    tsne_df_2_ab = tsne_df[tsne_df['bankruptcy'] == 2]\n",
    "\n",
    "\n",
    "    # target 별 시각화\n",
    "    plt.scatter(tsne_df_0_ab['component 0'], tsne_df_0_ab['component 1'], color = 'green', label = 'NO Bankuptcy')\n",
    "    plt.scatter(tsne_df_1_ab['component 0'], tsne_df_1_ab['component 1'], color = 'red', label = 'AF 1,2 year B')\n",
    "    plt.scatter(tsne_df_2_ab['component 0'], tsne_df_2_ab['component 1'], color = 'pink', label = 'AF 3,4 year B')\n",
    "    \n",
    "    STR = imputer+\"imputer\"\n",
    "    plt.title(STR)\n",
    "    plt.xlabel('component 0')\n",
    "    plt.ylabel('component 1')\n",
    "    plt.legend(bbox_to_anchor=(1,1))\n",
    "    plt.show()"
   ]
  },
  {
   "cell_type": "markdown",
   "id": "72711117",
   "metadata": {},
   "source": [
    "# 3차원 시각화 함수"
   ]
  },
  {
   "cell_type": "code",
   "execution_count": 9,
   "id": "a8647392",
   "metadata": {},
   "outputs": [],
   "source": [
    "def three_dimension_visual_plot(tsne_df3,origin_df,imputer):\n",
    "\n",
    "    # 3차원 그래프 세팅\n",
    "    fig = plt.figure(figsize=(9, 6))\n",
    "    ax = fig.add_subplot(111, projection='3d')\n",
    "        # class target 정보 불러오기 \n",
    "    tsne_df3['bankruptcy'] =origin_df['bankruptcy']\n",
    "\n",
    "    tsne_df_0_no = tsne_df3[tsne_df3['bankruptcy'] == 0]\n",
    "    tsne_df_1_ab = tsne_df3[tsne_df3['bankruptcy'] == 1]\n",
    "    tsne_df_2_ab = tsne_df3[tsne_df3['bankruptcy'] == 2]\n",
    "\n",
    "\n",
    "        # target 별 시각화\n",
    "    ax.scatter(tsne_df_0_no['component 0'], tsne_df_0_no['component 1'], tsne_df_0_no['component 2'], color = 'green', label = 'NO BANKRuptcy') \n",
    "    ax.scatter(tsne_df_1_ab['component 0'], tsne_df_1_ab['component 1'], tsne_df_1_ab['component 2'], color = 'red', label =  'AF 1,2 year B')\n",
    "    ax.scatter(tsne_df_2_ab['component 0'], tsne_df_2_ab['component 1'], tsne_df_2_ab['component 2'], color = 'pink', label = 'AF 3,4 year B')\n",
    "\n",
    "    \n",
    "    STR = imputer+\"imputer\"\n",
    "    plt.title(STR)\n",
    "    ax.set_xlabel('component 0')\n",
    "    ax.set_ylabel('component 1')\n",
    "    ax.set_zlabel('component 2')\n",
    "    ax.legend(bbox_to_anchor=(1,1))\n",
    "    plt.show()"
   ]
  },
  {
   "cell_type": "markdown",
   "id": "6a00f330",
   "metadata": {},
   "source": [
    "# KNN TSNE  \n",
    "3class"
   ]
  },
  {
   "cell_type": "code",
   "execution_count": null,
   "id": "519d22af",
   "metadata": {},
   "outputs": [],
   "source": [
    "Kdf =KNN_df\n",
    "Kdata = Kdf.drop(['bankruptcy'], axis=1).mul(100) #50,000\n",
    "Ky =Kdf[\"bankruptcy\"]\n",
    "n_components2 = 2 # 2차원으로 차원 축소\n",
    "KNN_model_2 = TSNE(n_components=n_components2,n_iter = 2000)\n",
    "n_components3 = 3 # 2차원으로 차원 축소\n",
    "KNN_model_3 = TSNE(n_components=n_components3,n_iter = 2000)\n",
    "\n",
    "#2차원 축소 모델 트레이닝\n",
    "KNN_TSNE_np2= KNN_model_2.fit_transform(Kdata)\n",
    "# numpy array -> DataFrame 변환\n",
    "KNN_tsne_df2 = pd.DataFrame(KNN_TSNE_np2, columns = ['component 0', 'component 1'])\n",
    "\n",
    "#3차원 축소 모델 트레이닝\n",
    "KNN_TSNE_np3=KNN_model_3.fit_transform(Kdata)\n",
    "# numpy array -> DataFrame 변환\n",
    "KNN_tsne_df3 = pd.DataFrame(KNN_TSNE_np3, columns = ['component 0', 'component 1','component 2'])"
   ]
  },
  {
   "cell_type": "code",
   "execution_count": null,
   "id": "75eb86f0",
   "metadata": {},
   "outputs": [],
   "source": [
    "two_dimension_visual_plot(KNN_tsne_df2,KNN_df,\"KNN \")"
   ]
  },
  {
   "cell_type": "code",
   "execution_count": null,
   "id": "a26df27a",
   "metadata": {},
   "outputs": [],
   "source": [
    "three_dimension_visual_plot(KNN_tsne_df3,KNN_df,\"KNN \")"
   ]
  },
  {
   "cell_type": "markdown",
   "id": "f4acdc09",
   "metadata": {},
   "source": [
    "# MICE TSNE  \n",
    "6class"
   ]
  },
  {
   "cell_type": "code",
   "execution_count": null,
   "id": "cf2250d9",
   "metadata": {},
   "outputs": [],
   "source": [
    "Mdf =MICE_df\n",
    "Mdata = Mdf.drop(['bankruptcy'], axis=1)\n",
    "My = Mdf[\"bankruptcy\"]\n",
    "MICE_model_2 = TSNE(n_components=n_components2)\n",
    "MICE_model_3 = TSNE(n_components=n_components3)\n",
    "\n",
    "#2차원 축소 모델 트레이닝\n",
    "MICE_TSNE_np2=MICE_model_2.fit_transform(Mdata)\n",
    "# numpy array -> DataFrame 변환\n",
    "MICE_tsne_df2 = pd.DataFrame(MICE_TSNE_np2, columns = ['component 0', 'component 1'])\n",
    "\n",
    "#3차원 축소 모델 트레이닝\n",
    "MICE_TSNE_np3=MICE_model_3.fit_transform(Mdata)\n",
    "# numpy array -> DataFrame 변환\n",
    "MICE_tsne_df3 = pd.DataFrame(MICE_TSNE_np3, columns = ['component 0', 'component 1','component 2'])"
   ]
  },
  {
   "cell_type": "code",
   "execution_count": null,
   "id": "c085c553",
   "metadata": {},
   "outputs": [],
   "source": [
    "two_dimension_visual_plot(MICE_tsne_df2,MICE_df,\"MICE \")"
   ]
  },
  {
   "cell_type": "code",
   "execution_count": null,
   "id": "57450493",
   "metadata": {},
   "outputs": [],
   "source": [
    "three_dimension_visual_plot(MICE_tsne_df3,MICE_df,\"MICE \")"
   ]
  },
  {
   "cell_type": "markdown",
   "id": "100439da",
   "metadata": {},
   "source": [
    "# SIMPLE IMPUTATER TSNE  \n",
    "6class"
   ]
  },
  {
   "cell_type": "code",
   "execution_count": null,
   "id": "35c7e7f0",
   "metadata": {},
   "outputs": [],
   "source": [
    "Sdf =Simple_df\n",
    "Sdata = Sdf.drop(['bankruptcy'], axis=1)\n",
    "Sy = Sdf[\"bankruptcy\"]\n",
    "simple_model_2 = TSNE(n_components=n_components2,n_iter = 2000)\n",
    "simple_model_3 = TSNE(n_components=n_components3,n_iter = 2000)\n",
    "\n",
    "#2차원 축소 모델 트레이닝\n",
    "S_TSNE_np2=simple_model_2.fit_transform(Sdata)\n",
    "# numpy array -> DataFrame 변환\n",
    "S_tsne_df2 = pd.DataFrame(S_TSNE_np2, columns = ['component 0', 'component 1'])\n",
    "\n",
    "#3차원 축소 모델 트레이닝\n",
    "S_TSNE_np3=simple_model_3.fit_transform(Sdata)\n",
    "# numpy array -> DataFrame 변환\n",
    "S_tsne_df3 = pd.DataFrame(S_TSNE_np3, columns = ['component 0', 'component 1','component 2'])"
   ]
  },
  {
   "cell_type": "code",
   "execution_count": null,
   "id": "a2e1ca3f",
   "metadata": {},
   "outputs": [],
   "source": [
    "two_dimension_visual_plot(S_tsne_df2,Simple_df,\"SIMPLE \")"
   ]
  },
  {
   "cell_type": "code",
   "execution_count": null,
   "id": "99ef8be9",
   "metadata": {},
   "outputs": [],
   "source": [
    "three_dimension_visual_plot(S_tsne_df3,Simple_df,\"SIMPLE \")"
   ]
  },
  {
   "cell_type": "code",
   "execution_count": null,
   "id": "300e08bf",
   "metadata": {},
   "outputs": [],
   "source": []
  }
 ],
 "metadata": {
  "kernelspec": {
   "display_name": "Python 3 (ipykernel)",
   "language": "python",
   "name": "python3"
  },
  "language_info": {
   "codemirror_mode": {
    "name": "ipython",
    "version": 3
   },
   "file_extension": ".py",
   "mimetype": "text/x-python",
   "name": "python",
   "nbconvert_exporter": "python",
   "pygments_lexer": "ipython3",
   "version": "3.9.6"
  }
 },
 "nbformat": 4,
 "nbformat_minor": 5
}
